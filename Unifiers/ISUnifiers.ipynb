{
 "metadata": {
  "language_info": {
   "codemirror_mode": {
    "name": "ipython",
    "version": 3
   },
   "file_extension": ".py",
   "mimetype": "text/x-python",
   "name": "python",
   "nbconvert_exporter": "python",
   "pygments_lexer": "ipython3",
   "version": "3.8.5-final"
  },
  "orig_nbformat": 2,
  "kernelspec": {
   "name": "python38264bit0287cbfbd56e4ef5b937ac90180b7bf6",
   "display_name": "Python 3.8.2 64-bit",
   "language": "python"
  }
 },
 "nbformat": 4,
 "nbformat_minor": 2,
 "cells": [
  {
   "cell_type": "code",
   "execution_count": 1,
   "metadata": {},
   "outputs": [],
   "source": [
    "import pandas as pd\n",
    "import json\n",
    "import numpy as np\n",
    "from khayyam import *\n",
    "from selenium import webdriver\n",
    "import time\n",
    "from selenium.webdriver.common.keys import Keys\n",
    "from furl import furl\n",
    "import psycopg2\n",
    "import datetime\n",
    "import pandas.io.sql as psql\n",
    "from selenium.common.exceptions import NoSuchElementException  \n",
    "from selenium.webdriver.support.ui import Select\n",
    "import requests\n",
    "db_username=\"Jay\"\n",
    "db_pass=\"Mehrad1\"\n",
    "db_host=\"127.0.0.1\"\n",
    "db_port=\"5432\"\n",
    "db_database=\"FinWisev12\""
   ]
  },
  {
   "cell_type": "code",
   "execution_count": 2,
   "metadata": {},
   "outputs": [],
   "source": [
    "df=pd.read_csv('data-1611757357176.csv')"
   ]
  },
  {
   "cell_type": "code",
   "execution_count": 4,
   "metadata": {},
   "outputs": [],
   "source": [
    "def Insert(df):\n",
    "    try:\n",
    "        connection = psycopg2.connect(user=db_username,\n",
    "                                          password=db_pass,\n",
    "                                          host=db_host,\n",
    "                                          port=db_port,\n",
    "                                          database=db_database)\n",
    "        cursor = connection.cursor()\n",
    "        postgres_insert_query = \"\"\"\n",
    "          \n",
    "          INSERT INTO statement.\"ISUnifiers\"(\n",
    "           \"Item\", \"Translated\")\n",
    "            VALUES (%(Item)s, %(Translated)s);\n",
    "        \"\"\"\n",
    "    \n",
    "        cursor.executemany(postgres_insert_query,df.to_dict(orient='records'))\n",
    "        connection.commit()\n",
    "        \n",
    "    except(Exception, psycopg2.Error) as error:\n",
    "        if(connection):\n",
    "            print(\"Failed to insert log\", error)\n",
    "    finally:\n",
    "        if(connection):\n",
    "            cursor.close()\n",
    "            connection.close()               "
   ]
  },
  {
   "cell_type": "code",
   "execution_count": 5,
   "metadata": {},
   "outputs": [],
   "source": [
    "Insert(df)"
   ]
  },
  {
   "cell_type": "code",
   "execution_count": null,
   "metadata": {},
   "outputs": [],
   "source": []
  }
 ]
}