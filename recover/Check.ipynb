{
 "metadata": {
  "language_info": {
   "codemirror_mode": {
    "name": "ipython",
    "version": 3
   },
   "file_extension": ".py",
   "mimetype": "text/x-python",
   "name": "python",
   "nbconvert_exporter": "python",
   "pygments_lexer": "ipython3",
   "version": "3.8.5-final"
  },
  "orig_nbformat": 2,
  "kernelspec": {
   "name": "python3",
   "display_name": "Python 3.8.5 64-bit",
   "metadata": {
    "interpreter": {
     "hash": "4651ab95680b42511368455d8db8e928c8cc8f66207cc96dd1b889a6384596d0"
    }
   }
  },
  "metadata": {
   "interpreter": {
    "hash": "916dbcbb3f70747c44a77c7bcd40155683ae19c65e1c03b4aa3499c5328201f1"
   }
  }
 },
 "nbformat": 4,
 "nbformat_minor": 2,
 "cells": [
  {
   "cell_type": "code",
   "execution_count": 1,
   "metadata": {},
   "outputs": [],
   "source": [
    "import pandas as pd\n",
    "import psycopg2\n",
    "db_username=\"Jay\"\n",
    "db_pass=\"Mehrad1\"\n",
    "db_host=\"127.0.0.1\"\n",
    "db_port=\"5432\"\n",
    "db_database=\"FinWisev12\""
   ]
  },
  {
   "cell_type": "code",
   "execution_count": 2,
   "metadata": {},
   "outputs": [],
   "source": [
    "def Insert_PUBLISHERS(df):\n",
    "    try:\n",
    "\n",
    "        connection = psycopg2.connect(user=db_username,\n",
    "                                      password=db_pass,\n",
    "                                      host=db_host,\n",
    "                                      port=db_port,\n",
    "                                      database=db_database)\n",
    "        cursor = connection.cursor()\n",
    "        postgres_insert_query_cheif = \"\"\"\n",
    "         DO \n",
    "            $$\n",
    "            BEGIN\n",
    "                IF NOT EXISTS (select from   public.\"Publishers\" where \"persianName\"=%(Name)s ) THEN\n",
    "                   INSERT INTO public.\"Publishers\"(\n",
    "                    \"persianName\", \"FullName\", \"TypeOfCompany\", \"Status\", \"Industry\", \"Url\")\n",
    "                    VALUES (%(Name)s, %(FullName)s, %(Type)s, %(Acc)s, %(Industry)s, %(URL)s);\n",
    "                END IF;\n",
    "            END\n",
    "            $$ \n",
    "\n",
    "        \"\"\"\n",
    "        cursor.executemany(postgres_insert_query_cheif,df.to_dict(orient='records'))\n",
    "        #######\n",
    "        \n",
    "        connection.commit()\n",
    "        print('PUBLISHERS DONE')\n",
    "    except(Exception, psycopg2.Error) as error:\n",
    "            if(connection):\n",
    "                print('Failed to Update PUBLISHERS', error)\n",
    "    finally:\n",
    "        if(connection):\n",
    "            cursor.close()\n",
    "            connection.close()  "
   ]
  },
  {
   "cell_type": "code",
   "execution_count": 3,
   "metadata": {},
   "outputs": [],
   "source": [
    "DF=pd.read_csv('PUBLISHERSTOCK.csv',header=None)\n",
    "DF.columns=['Pub','Stock']"
   ]
  },
  {
   "cell_type": "code",
   "execution_count": 4,
   "metadata": {},
   "outputs": [],
   "source": [
    "DF2=pd.read_csv('STOCK.csv',header=None)\n",
    "DF2=DF2[[0,1]]\n",
    "DF2.columns=['Stock','Ticker']"
   ]
  },
  {
   "cell_type": "code",
   "execution_count": 5,
   "metadata": {},
   "outputs": [
    {
     "output_type": "stream",
     "name": "stdout",
     "text": [
      "PUBLISHERS DONE\n"
     ]
    }
   ],
   "source": [
    "DF3=pd.read_csv('PUBLISHERS.csv',header=None)\n",
    "DF3.columns=['Pub','Name','FullName','Type','Acc','Industry','URL']\n",
    "DF3=DF3[DF3['Name'].notna()]\n",
    "Insert_PUBLISHERS(DF3)\n",
    "DF4=DF3[['Pub','Name']]"
   ]
  },
  {
   "source": [
    "DF4"
   ],
   "cell_type": "code",
   "metadata": {},
   "execution_count": 6,
   "outputs": [
    {
     "output_type": "execute_result",
     "data": {
      "text/plain": [
       "       Pub                              Name\n",
       "0        1                             آبادا\n",
       "1        2                        آبان بازار\n",
       "2        3                       آبفا اصفهان\n",
       "3        4                          آبفامشهد\n",
       "4        5  آب و فاضلاب استان آذربایجان شرقی\n",
       "...    ...                               ...\n",
       "2216  2347                            وبازار\n",
       "2217  2348                             ویستا\n",
       "2218  2349                             ویسرو\n",
       "2219  2350                تامین سرمایه آرمان\n",
       "2220  2351                             ومدیر\n",
       "\n",
       "[2220 rows x 2 columns]"
      ],
      "text/html": "<div>\n<style scoped>\n    .dataframe tbody tr th:only-of-type {\n        vertical-align: middle;\n    }\n\n    .dataframe tbody tr th {\n        vertical-align: top;\n    }\n\n    .dataframe thead th {\n        text-align: right;\n    }\n</style>\n<table border=\"1\" class=\"dataframe\">\n  <thead>\n    <tr style=\"text-align: right;\">\n      <th></th>\n      <th>Pub</th>\n      <th>Name</th>\n    </tr>\n  </thead>\n  <tbody>\n    <tr>\n      <th>0</th>\n      <td>1</td>\n      <td>آبادا</td>\n    </tr>\n    <tr>\n      <th>1</th>\n      <td>2</td>\n      <td>آبان بازار</td>\n    </tr>\n    <tr>\n      <th>2</th>\n      <td>3</td>\n      <td>آبفا اصفهان</td>\n    </tr>\n    <tr>\n      <th>3</th>\n      <td>4</td>\n      <td>آبفامشهد</td>\n    </tr>\n    <tr>\n      <th>4</th>\n      <td>5</td>\n      <td>آب و فاضلاب استان آذربایجان شرقی</td>\n    </tr>\n    <tr>\n      <th>...</th>\n      <td>...</td>\n      <td>...</td>\n    </tr>\n    <tr>\n      <th>2216</th>\n      <td>2347</td>\n      <td>وبازار</td>\n    </tr>\n    <tr>\n      <th>2217</th>\n      <td>2348</td>\n      <td>ویستا</td>\n    </tr>\n    <tr>\n      <th>2218</th>\n      <td>2349</td>\n      <td>ویسرو</td>\n    </tr>\n    <tr>\n      <th>2219</th>\n      <td>2350</td>\n      <td>تامین سرمایه آرمان</td>\n    </tr>\n    <tr>\n      <th>2220</th>\n      <td>2351</td>\n      <td>ومدیر</td>\n    </tr>\n  </tbody>\n</table>\n<p>2220 rows × 2 columns</p>\n</div>"
     },
     "metadata": {},
     "execution_count": 6
    }
   ]
  },
  {
   "cell_type": "code",
   "execution_count": 7,
   "metadata": {},
   "outputs": [
    {
     "output_type": "execute_result",
     "data": {
      "text/plain": [
       "      Pub  Stock\n",
       "0      35    965\n",
       "1       1      1\n",
       "2       6   1101\n",
       "3       7      2\n",
       "4      68      4\n",
       "..    ...    ...\n",
       "726  2002    702\n",
       "727  2005   1200\n",
       "728  2215   1200\n",
       "729  2006   1034\n",
       "730  2000    849\n",
       "\n",
       "[731 rows x 2 columns]"
      ],
      "text/html": "<div>\n<style scoped>\n    .dataframe tbody tr th:only-of-type {\n        vertical-align: middle;\n    }\n\n    .dataframe tbody tr th {\n        vertical-align: top;\n    }\n\n    .dataframe thead th {\n        text-align: right;\n    }\n</style>\n<table border=\"1\" class=\"dataframe\">\n  <thead>\n    <tr style=\"text-align: right;\">\n      <th></th>\n      <th>Pub</th>\n      <th>Stock</th>\n    </tr>\n  </thead>\n  <tbody>\n    <tr>\n      <th>0</th>\n      <td>35</td>\n      <td>965</td>\n    </tr>\n    <tr>\n      <th>1</th>\n      <td>1</td>\n      <td>1</td>\n    </tr>\n    <tr>\n      <th>2</th>\n      <td>6</td>\n      <td>1101</td>\n    </tr>\n    <tr>\n      <th>3</th>\n      <td>7</td>\n      <td>2</td>\n    </tr>\n    <tr>\n      <th>4</th>\n      <td>68</td>\n      <td>4</td>\n    </tr>\n    <tr>\n      <th>...</th>\n      <td>...</td>\n      <td>...</td>\n    </tr>\n    <tr>\n      <th>726</th>\n      <td>2002</td>\n      <td>702</td>\n    </tr>\n    <tr>\n      <th>727</th>\n      <td>2005</td>\n      <td>1200</td>\n    </tr>\n    <tr>\n      <th>728</th>\n      <td>2215</td>\n      <td>1200</td>\n    </tr>\n    <tr>\n      <th>729</th>\n      <td>2006</td>\n      <td>1034</td>\n    </tr>\n    <tr>\n      <th>730</th>\n      <td>2000</td>\n      <td>849</td>\n    </tr>\n  </tbody>\n</table>\n<p>731 rows × 2 columns</p>\n</div>"
     },
     "metadata": {},
     "execution_count": 7
    }
   ],
   "source": [
    "DF"
   ]
  },
  {
   "cell_type": "code",
   "execution_count": 8,
   "metadata": {},
   "outputs": [],
   "source": [
    "X=pd.merge(DF,DF4)"
   ]
  },
  {
   "cell_type": "code",
   "execution_count": 9,
   "metadata": {},
   "outputs": [],
   "source": [
    "Y=X.merge(DF2)"
   ]
  },
  {
   "cell_type": "code",
   "execution_count": 10,
   "metadata": {},
   "outputs": [
    {
     "output_type": "execute_result",
     "data": {
      "text/plain": [
       "      Pub  Stock   Name Ticker\n",
       "0      35    965  آ س پ  آ س پ\n",
       "1       1      1  آبادا  آبادا\n",
       "2       6   1101   آبین   آبین\n",
       "3       7      2     آپ     آپ\n",
       "4      68      4   اپال   اپال\n",
       "..    ...    ...    ...    ...\n",
       "726  2002    702  ونیکی  ونیکی\n",
       "727  2005   1200   وهنر   وهنر\n",
       "728  2215   1200  وهنر    وهنر\n",
       "729  2006   1034   وهور   وهور\n",
       "730  2000    849  ونوین  ونوین\n",
       "\n",
       "[731 rows x 4 columns]"
      ],
      "text/html": "<div>\n<style scoped>\n    .dataframe tbody tr th:only-of-type {\n        vertical-align: middle;\n    }\n\n    .dataframe tbody tr th {\n        vertical-align: top;\n    }\n\n    .dataframe thead th {\n        text-align: right;\n    }\n</style>\n<table border=\"1\" class=\"dataframe\">\n  <thead>\n    <tr style=\"text-align: right;\">\n      <th></th>\n      <th>Pub</th>\n      <th>Stock</th>\n      <th>Name</th>\n      <th>Ticker</th>\n    </tr>\n  </thead>\n  <tbody>\n    <tr>\n      <th>0</th>\n      <td>35</td>\n      <td>965</td>\n      <td>آ س پ</td>\n      <td>آ س پ</td>\n    </tr>\n    <tr>\n      <th>1</th>\n      <td>1</td>\n      <td>1</td>\n      <td>آبادا</td>\n      <td>آبادا</td>\n    </tr>\n    <tr>\n      <th>2</th>\n      <td>6</td>\n      <td>1101</td>\n      <td>آبین</td>\n      <td>آبین</td>\n    </tr>\n    <tr>\n      <th>3</th>\n      <td>7</td>\n      <td>2</td>\n      <td>آپ</td>\n      <td>آپ</td>\n    </tr>\n    <tr>\n      <th>4</th>\n      <td>68</td>\n      <td>4</td>\n      <td>اپال</td>\n      <td>اپال</td>\n    </tr>\n    <tr>\n      <th>...</th>\n      <td>...</td>\n      <td>...</td>\n      <td>...</td>\n      <td>...</td>\n    </tr>\n    <tr>\n      <th>726</th>\n      <td>2002</td>\n      <td>702</td>\n      <td>ونیکی</td>\n      <td>ونیکی</td>\n    </tr>\n    <tr>\n      <th>727</th>\n      <td>2005</td>\n      <td>1200</td>\n      <td>وهنر</td>\n      <td>وهنر</td>\n    </tr>\n    <tr>\n      <th>728</th>\n      <td>2215</td>\n      <td>1200</td>\n      <td>وهنر</td>\n      <td>وهنر</td>\n    </tr>\n    <tr>\n      <th>729</th>\n      <td>2006</td>\n      <td>1034</td>\n      <td>وهور</td>\n      <td>وهور</td>\n    </tr>\n    <tr>\n      <th>730</th>\n      <td>2000</td>\n      <td>849</td>\n      <td>ونوین</td>\n      <td>ونوین</td>\n    </tr>\n  </tbody>\n</table>\n<p>731 rows × 4 columns</p>\n</div>"
     },
     "metadata": {},
     "execution_count": 10
    }
   ],
   "source": [
    "Y"
   ]
  },
  {
   "cell_type": "code",
   "execution_count": 11,
   "metadata": {},
   "outputs": [],
   "source": [
    "def Insert_PS(df):\n",
    "    try:\n",
    "\n",
    "        connection = psycopg2.connect(user=db_username,\n",
    "                                      password=db_pass,\n",
    "                                      host=db_host,\n",
    "                                      port=db_port,\n",
    "                                      database=db_database)\n",
    "        cursor = connection.cursor()\n",
    "        postgres_insert_query_cheif = \"\"\"\n",
    "         DO \n",
    "            $$\n",
    "            BEGIN\n",
    "                IF NOT EXISTS (select from    public.\"PublisherStock\" where \"PublisherID\"=(SELECT \"ID\" from public.\"Publishers\" where \"persianName\"=%(Name)s )) THEN\n",
    "                INSERT INTO public.\"PublisherStock\"(\n",
    "                \"PublisherID\", \"StockID\")\n",
    "                VALUES ((SELECT \"ID\" from public.\"Publishers\" where \"persianName\"=%(Name)s ), (SELECT \"ID\" from public.\"Stocks\" where \"ticker\"=%(Ticker)s ));\n",
    "                END IF;\n",
    "            END\n",
    "            $$ \n",
    "\n",
    "        \"\"\"\n",
    "        cursor.executemany(postgres_insert_query_cheif,df.to_dict(orient='records'))\n",
    "        #######\n",
    "        \n",
    "        connection.commit()\n",
    "        print('PS DONE')\n",
    "    except(Exception, psycopg2.Error) as error:\n",
    "            if(connection):\n",
    "                print('Failed to Update PS', error)\n",
    "    finally:\n",
    "        if(connection):\n",
    "            cursor.close()\n",
    "            connection.close()  "
   ]
  },
  {
   "cell_type": "code",
   "execution_count": 16,
   "metadata": {},
   "outputs": [
    {
     "output_type": "stream",
     "name": "stdout",
     "text": [
      "PS DONE\n"
     ]
    }
   ],
   "source": [
    "Insert_PS(Y)"
   ]
  },
  {
   "cell_type": "code",
   "execution_count": 15,
   "metadata": {},
   "outputs": [],
   "source": [
    "Y=Y[Y['Ticker']!='مدار']"
   ]
  },
  {
   "cell_type": "code",
   "execution_count": null,
   "metadata": {},
   "outputs": [],
   "source": []
  }
 ]
}